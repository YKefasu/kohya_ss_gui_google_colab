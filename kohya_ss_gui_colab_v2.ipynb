{
  "cells": [
    {
      "cell_type": "markdown",
      "metadata": {
        "id": "view-in-github",
        "colab_type": "text"
      },
      "source": [
        "<a href=\"https://colab.research.google.com/github/YKefasu/kohya_ss_gui_google_colab/blob/master/kohya_ss_gui_colab_v2.ipynb\" target=\"_parent\"><img src=\"https://colab.research.google.com/assets/colab-badge.svg\" alt=\"Open In Colab\"/></a>"
      ]
    },
    {
      "cell_type": "markdown",
      "metadata": {
        "id": "MvroZ9rJ1iqN"
      },
      "source": [
        "<center><font color=\"#00CED1\" size=\"6\">🎊 <u><b>Kohya SS GUI Google Colab</b></u> 🎊</font></center>\n",
        "\n",
        "Notebook Colab ini menyiapkan instance Kohya SS di Google Colab dan dapat di akses menggunakan link Gradio Live untuk mengakses Kohya WebUI. Colab ini memberikan cara mudah bagi pengguna untuk menjalankan Kohya SS GUI tanpa perlu menginstal apa pun di perangkat kalian.\n",
        "\n",
        "Notebook Colab ini terinspirasi dari [Spaceginner](https://github.com/Spaceginner) dan proyek [Kohya SS Project](https://github.com/bmaltais/kohya_ss) oleh [bmaltais](https://github.com/bmaltais). Dibuat oleh [panguin6010](https://github.com/panguin6010) dan Diedit oleh [YKefasu](https://www.youtube.com/channel/UCsqTcFMsAlegRsUyfyKe_5A).\n",
        "\n",
        "---"
      ]
    },
    {
      "cell_type": "code",
      "execution_count": null,
      "metadata": {
        "id": "vmoRnFQEqOeY",
        "cellView": "form"
      },
      "outputs": [],
      "source": [
        "#@markdown #Step 1️⃣: Mounting Google Drive\n",
        "\n",
        "from google.colab import drive\n",
        "drive.mount('/content/gdrive')"
      ]
    },
    {
      "cell_type": "code",
      "execution_count": null,
      "metadata": {
        "id": "jnhm7ycMrLWb",
        "cellView": "form"
      },
      "outputs": [],
      "source": [
        "#@markdown #Step 2️⃣: Kohya SS WebUI Installation\n",
        "\n",
        "#@markdown Note: If Google Drive is not connected, the code will use Colab storage instead.\n",
        "\n",
        "#@title\n",
        "# Import necessary libraries\n",
        "from IPython.display import clear_output\n",
        "\n",
        "# Clone the repository and create necessary directories\n",
        "!git clone https://github.com/bmaltais/kohya_ss\n",
        "%cd /content/kohya_ss\n",
        "!pip install --use-feature=fast-deps -r requirements.txt\n",
        "!./setup.sh\n",
        "!git pull\n",
        "\n",
        "%env TF_CPP_MIN_LOG_LEVEL=1\n",
        "!apt -y update -qq\n",
        "!apt -y install libjemalloc-dev\n",
        "%env LD_PRELOAD=/usr/lib/x86_64-linux-gnu/libjemalloc.so.2\n",
        "\n",
        "# Clear the output and display the success message\n",
        "clear_output()\n",
        "inf(\"✓ Done\", \"success\", \"50px\")"
      ]
    },
    {
      "cell_type": "code",
      "execution_count": null,
      "metadata": {
        "id": "yjvkHRlDtDmV",
        "cellView": "form"
      },
      "outputs": [],
      "source": [
        "#@markdown #Step 3️⃣: Config Installation\n",
        "\n",
        "!accelerate config\n",
        "\n",
        "# Clear the output to keep the notebook clean\n",
        "clear_output()\n",
        "\n",
        "# Print the success message\n",
        "inf(\"✓ Done\", \"success\", \"50px\")"
      ]
    },
    {
      "cell_type": "markdown",
      "metadata": {
        "id": "FLDvlHm1tYud"
      },
      "source": [
        "---\n",
        "---\n",
        "\n"
      ]
    },
    {
      "cell_type": "code",
      "source": [
        "#@markdown #Optional🛠️: Download File or PreTrained Model\n",
        "PreTrained_Model = \"https://huggingface.co/NoCrypt/SomethingV2_2/resolve/main/SomethingV2_2.safetensors\"  # @param {'type': 'string'}\n",
        "!wget --content-disposition $PreTrained_Model"
      ],
      "metadata": {
        "cellView": "form",
        "id": "872nKng2jGJY"
      },
      "execution_count": null,
      "outputs": []
    },
    {
      "cell_type": "code",
      "source": [
        "#@markdown #Optional🛠️: Load & Open TensorBoard\n",
        "\n",
        "# Load the TensorBoard notebook extension\n",
        "%load_ext tensorboard\n",
        "\n",
        "import tensorrt as trt\n",
        "import tensorflow as tf\n",
        "import datetime, os\n",
        "\n",
        "log_folder = \"\"  # @param {'type': 'string'}\n",
        "# Clear the output to keep the notebook clean\n",
        "clear_output()\n",
        "%tensorboard --logdir \"$log_folder\""
      ],
      "metadata": {
        "id": "LgBQogVKeJnr",
        "cellView": "form"
      },
      "execution_count": null,
      "outputs": []
    },
    {
      "cell_type": "markdown",
      "source": [
        "---\n",
        "---"
      ],
      "metadata": {
        "id": "pv26Qv-GjJfA"
      }
    },
    {
      "cell_type": "code",
      "execution_count": null,
      "metadata": {
        "id": "IzS3hvuTtTqW",
        "cellView": "form"
      },
      "outputs": [],
      "source": [
        "#@markdown #Step 4️⃣: Start Kohya ss WebUI\n",
        "\n",
        "User = \"\" #@param {type:\"string\"}\n",
        "Password = \"\" #@param {type:\"string\"}\n",
        "\n",
        "#@markdown  ** Adding a username and password is not necessary but it will improve the security of your Kohya instance.\n",
        "\n",
        "#@markdown # Please click the link that concludes with ```gradio.live``` to access your instance\n",
        "#@markdown ![Image in a markdown cell]( https://blogger.googleusercontent.com/img/b/R29vZ2xl/AVvXsEgbVQ6d2Nd94epicRjhfwiTVPNPbEPbqwxviLnV8mx0pPflUWmfP8eKtE4fWuK77KsJLp1aMbZD_02gpSdv31mFEO1xQu0dyRophjSpLEPIL-a_QYgrz1ZH-n6O8aL7qBr1ofS429VqOCMO41bhx1muf__okLifEm79akATPVmiScC5p09uejupOnBF/s490/%E3%82%B9%E3%82%AF%E3%83%AA%E3%83%BC%E3%83%B3%E3%82%B7%E3%83%A7%E3%83%83%E3%83%88%202023-04-14%20084916.png)\n",
        "# Encourage users to contribute improvements\n",
        "print(\"Please feel free to make any changes or improvements you think would enhance this setup. Your input and contributions are greatly appreciated!\")\n",
        "# Check if the user has provided a username and password\n",
        "if User and Password:\n",
        "    # Run the Kohya GUI with the provided credentials\n",
        "    !python /content/gdrive/MyDrive/sd/kohya_ss_colab/kohya_gui.py --username $User --password $Password --share --headless\n",
        "else:\n",
        "    # Run the Kohya GUI without credentials\n",
        "    !python /content/gdrive/MyDrive/sd/kohya_ss_colab/kohya_gui.py --share --headless\n"
      ]
    },
    {
      "cell_type": "markdown",
      "source": [
        "</br>\n",
        "\n",
        "</br>\n",
        "\n",
        "## **<center>DiBuat dengan<font color=\"#FF4BD4\"> *SEPENUH HATI* ❤️</font> by [youtube.com/@yosiakefas](https://youtube.com/@yosiakefa)</center>**\n",
        "## **<center>ERROR? Kesusahan? Bingung? Kita akan Bantu jika Join Server Discord</center>**\n",
        "<div align=\"center\">\n",
        " <a href=\"https://www.youtube.com/channel/UCsqTcFMsAlegRsUyfyKe_5A\"><img src=\"https://blogger.googleusercontent.com/img/b/R29vZ2xl/AVvXsEiZxKLHX32VYBBOvxvKUDka6uX0wKYYg46EurNzQBUHjaxd2dSJ82paUaJ1OTzpMMt4R7KUuvsbcOLuAg_9NJ1WaRJev8vmRhWea4xfg0AhjSaX2sp3ZFZGD490AArNICVDqzYvrjTqWbKFHxFLE2AYBVaIrGvkwPTqJCroDTvEb43sNuM5wHHCecd6/s350/subscribe-5408999_640.png\" width=\"310\"/></a>ㅤㅤ\n",
        " <a href=\"https://discord.gg/j8qmYPAGQh\"><img src=\"https://cdn.shopify.com/s/files/1/0562/9329/4253/files/Discord_button_480x480.png\" width=\"350\"/></a></div>"
      ],
      "metadata": {
        "id": "q2gtcdtPeRmO"
      }
    }
  ],
  "metadata": {
    "colab": {
      "provenance": [],
      "include_colab_link": true
    },
    "kernelspec": {
      "display_name": "Python 3",
      "name": "python3"
    },
    "language_info": {
      "name": "python"
    }
  },
  "nbformat": 4,
  "nbformat_minor": 0
}