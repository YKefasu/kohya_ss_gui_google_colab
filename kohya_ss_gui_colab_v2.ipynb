{
  "cells": [
    {
      "cell_type": "markdown",
      "metadata": {
        "id": "view-in-github",
        "colab_type": "text"
      },
      "source": [
        "<a href=\"https://colab.research.google.com/github/YKefasu/kohya_ss_gui_google_colab/blob/master/kohya_ss_gui_colab_v2.ipynb\" target=\"_parent\"><img src=\"https://colab.research.google.com/assets/colab-badge.svg\" alt=\"Open In Colab\"/></a>"
      ]
    },
    {
      "cell_type": "markdown",
      "metadata": {
        "id": "MvroZ9rJ1iqN"
      },
      "source": [
        "<center><font color=\"#00CED1\" size=\"6\">🎊 <u><b>Kohya SS GUI Google Colab</b></u> 🎊</font></center>\n",
        "\n",
        "Notebook Colab ini menyiapkan instance Kohya SS di Google Colab dan dapat di akses menggunakan link Gradio Live untuk mengakses Kohya WebUI. Colab ini memberikan cara mudah bagi pengguna untuk menjalankan Kohya SS GUI tanpa perlu menginstal apa pun di perangkat kalian.\n",
        "\n",
        "Notebook Colab ini terinspirasi dari [Spaceginner](https://github.com/Spaceginner) dan proyek [Kohya SS Project](https://github.com/bmaltais/kohya_ss) oleh [bmaltais](https://github.com/bmaltais). Dibuat oleh [panguin6010](https://github.com/panguin6010) dan Diedit oleh [YKefasu](https://www.youtube.com/channel/UCsqTcFMsAlegRsUyfyKe_5A).\n",
        "\n",
        "---"
      ]
    },
    {
      "cell_type": "code",
      "execution_count": null,
      "metadata": {
        "id": "vmoRnFQEqOeY",
        "cellView": "form"
      },
      "outputs": [],
      "source": [
        "#@markdown #Step 1️⃣: Mounting Google Drive\n",
        "\n",
        "from google.colab import drive\n",
        "drive.mount('/content/gdrive')"
      ]
    },
    {
      "cell_type": "code",
      "execution_count": null,
      "metadata": {
        "id": "jnhm7ycMrLWb",
        "cellView": "form"
      },
      "outputs": [],
      "source": [
        "#@markdown #Step 2️⃣: Kohya SS WebUI Installation\n",
        "\n",
        "#@markdown Note: If Google Drive is not connected, the code will use Colab storage instead.\n",
        "\n",
        "#@title\n",
        "# Import necessary libraries\n",
        "from IPython.display import clear_output\n",
        "\n",
        "# Clone the repository and create necessary directories\n",
        "!git clone https://github.com/bmaltais/kohya_ss\n",
        "%cd /content/kohya_ss\n",
        "!pip install --use-feature=fast-deps -r requirements.txt\n",
        "!./setup.sh\n",
        "!git pull\n",
        "\n",
        "%env TF_CPP_MIN_LOG_LEVEL=1\n",
        "!apt -y update -qq\n",
        "!apt -y install libjemalloc-dev\n",
        "%env LD_PRELOAD=/usr/lib/x86_64-linux-gnu/libjemalloc.so.2\n",
        "\n",
        "# Clear the output and display the success message\n",
        "clear_output()\n",
        "inf(\"✓ Done\", \"success\", \"50px\")"
      ]
    },
    {
      "cell_type": "code",
      "execution_count": null,
      "metadata": {
        "id": "yjvkHRlDtDmV",
        "cellView": "form"
      },
      "outputs": [],
      "source": [
        "#@markdown #Step 3️⃣: Config Installation\n",
        "\n",
        "!accelerate config\n",
        "\n",
        "# Clear the output to keep the notebook clean\n",
        "clear_output()\n",
        "\n",
        "# Print the success message\n",
        "inf(\"✓ Done\", \"success\", \"50px\")"
      ]
    },
    {
      "cell_type": "markdown",
      "metadata": {
        "id": "FLDvlHm1tYud"
      },
      "source": [
        "---\n",
        "---\n",
        "\n"
      ]
    },
    {
      "cell_type": "code",
      "source": [
        "#@markdown #Optional🛠️: Download File or PreTrained Model\n",
        "PreTrained_Model = \"https://huggingface.co/NoCrypt/SomethingV2_2/resolve/main/SomethingV2_2.safetensors\"  # @param {'type': 'string'}\n",
        "!wget --content-disposition $PreTrained_Model"
      ],
      "metadata": {
        "cellView": "form",
        "id": "872nKng2jGJY"
      },
      "execution_count": null,
      "outputs": []
    },
    {
      "cell_type": "code",
      "source": [
        "#@markdown #Optional🛠️: Load & Open TensorBoard\n",
        "\n",
        "# Load the TensorBoard notebook extension\n",
        "%load_ext tensorboard\n",
        "\n",
        "import tensorrt as trt\n",
        "import tensorflow as tf\n",
        "import datetime, os\n",
        "\n",
        "log_folder = \"\"  # @param {'type': 'string'}\n",
        "# Clear the output to keep the notebook clean\n",
        "clear_output()\n",
        "%tensorboard --logdir \"$log_folder\""
      ],
      "metadata": {
        "id": "LgBQogVKeJnr",
        "cellView": "form"
      },
      "execution_count": null,
      "outputs": []
    },
    {
      "cell_type": "markdown",
      "source": [
        "---\n",
        "---"
      ],
      "metadata": {
        "id": "pv26Qv-GjJfA"
      }
    },
    {
      "cell_type": "code",
      "execution_count": null,
      "metadata": {
        "id": "IzS3hvuTtTqW",
        "cellView": "form"
      },
      "outputs": [],
      "source": [
        "#@markdown #Step 4️⃣: Start Kohya ss WebUI\n",
        "!bash gui.sh --share --headless\n"
      ]
    },
    {
      "cell_type": "code",
      "source": [
        "#@markdown #Step 5️⃣: Start Training\n",
        "!accelerate launch --num_cpu_threads_per_process=2 \"./sdxl_train_network.py\" --pretrained_model_name_or_path=\"stabilityai/stable-diffusion-xl-base-1.0\" --train_data_dir=\"/content/outputslora/img\" --resolution=\"1024,1024\" --output_dir=\"/content/outputslora/model\" --logging_dir=\"/content/outputslora/log\" --network_alpha=\"128\" --save_model_as=safetensors --network_module=networks.lora --text_encoder_lr=5e-05 --unet_lr=0.0001 --network_dim=128 --output_name=\"mayaohwxxl\" --lr_scheduler_num_cycles=\"1\" --no_half_vae --learning_rate=\"0.0001\" --lr_scheduler=\"constant\" --train_batch_size=\"1\" --max_train_steps=\"1750\" --save_every_n_epochs=\"1\" --mixed_precision=\"fp16\" --save_precision=\"fp16\" --seed=\"1234\" --cache_latents --cache_latents_to_disk --optimizer_type=\"Adafactor\" --optimizer_args scale_parameter=False relative_step=False warmup_init=False --max_train_epochs=2 --max_data_loader_n_workers=\"0\" --clip_skip=2 --bucket_reso_steps=64 --gradient_checkpointing --full_fp16 --xformers --bucket_no_upscale --multires_noise_discount=\"0.3\" --lowram"
      ],
      "metadata": {
        "id": "cr6WsAlqpBuN"
      },
      "execution_count": null,
      "outputs": []
    },
    {
      "cell_type": "markdown",
      "source": [
        "</br>\n",
        "\n",
        "</br>\n",
        "\n",
        "## **<center>DiBuat dengan<font color=\"#FF4BD4\"> *SEPENUH HATI* ❤️</font> by [youtube.com/@yosiakefas](https://youtube.com/@yosiakefa)</center>**\n",
        "## **<center>ERROR? Kesusahan? Bingung? Kita akan Bantu jika Join Server Discord</center>**\n",
        "<div align=\"center\">\n",
        " <a href=\"https://www.youtube.com/channel/UCsqTcFMsAlegRsUyfyKe_5A\"><img src=\"https://blogger.googleusercontent.com/img/b/R29vZ2xl/AVvXsEiZxKLHX32VYBBOvxvKUDka6uX0wKYYg46EurNzQBUHjaxd2dSJ82paUaJ1OTzpMMt4R7KUuvsbcOLuAg_9NJ1WaRJev8vmRhWea4xfg0AhjSaX2sp3ZFZGD490AArNICVDqzYvrjTqWbKFHxFLE2AYBVaIrGvkwPTqJCroDTvEb43sNuM5wHHCecd6/s350/subscribe-5408999_640.png\" width=\"310\"/></a>ㅤㅤ\n",
        " <a href=\"https://discord.gg/j8qmYPAGQh\"><img src=\"https://cdn.shopify.com/s/files/1/0562/9329/4253/files/Discord_button_480x480.png\" width=\"350\"/></a></div>"
      ],
      "metadata": {
        "id": "q2gtcdtPeRmO"
      }
    }
  ],
  "metadata": {
    "colab": {
      "provenance": [],
      "include_colab_link": true
    },
    "kernelspec": {
      "display_name": "Python 3",
      "name": "python3"
    },
    "language_info": {
      "name": "python"
    }
  },
  "nbformat": 4,
  "nbformat_minor": 0
}