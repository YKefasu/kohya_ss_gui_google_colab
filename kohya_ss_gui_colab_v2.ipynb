{
  "cells": [
    {
      "cell_type": "markdown",
      "metadata": {
        "id": "view-in-github",
        "colab_type": "text"
      },
      "source": [
        "<a href=\"https://colab.research.google.com/github/YKefasu/kohya_ss_gui_google_colab/blob/master/kohya_ss_gui_colab_v2.ipynb\" target=\"_parent\"><img src=\"https://colab.research.google.com/assets/colab-badge.svg\" alt=\"Open In Colab\"/></a>"
      ]
    },
    {
      "cell_type": "markdown",
      "metadata": {
        "id": "MvroZ9rJ1iqN"
      },
      "source": [
        "## **Kohya SS GUI GOOLE Colab**\n",
        "\n",
        "Notebook Colab ini menyiapkan instance Kohya SS di Google Colab dan dapat di akses menggunakan link Gradio Live untuk mengakses Kohya WebUI. Notebook Colab ini memberikan cara mudah bagi pengguna untuk menjalankan Kohya SS GUI tanpa perlu menginstal apa pun di perangkat kalian.\n",
        "\n",
        "Notebook Colab ini terinspirasi dari [Spaceginner](https://github.com/Spaceginner) dan proyek [Kohya SS Project](https://github.com/bmaltais/kohya_ss) oleh [bmaltais](https://github.com/bmaltais). Dibuat oleh [panguin6010](https://github.com/panguin6010) dan Diedit oleh [YKefasu](https://www.youtube.com/channel/UCsqTcFMsAlegRsUyfyKe_5A).\n",
        "\n",
        "&nbsp;\n",
        "### **🙏Tolong Subscribe Youtube Channel & Join Server Discord Kita**\n",
        "<div align=\"center\">\n",
        " <a href=\"https://www.youtube.com/channel/UCsqTcFMsAlegRsUyfyKe_5A\"><img src=\"https://blogger.googleusercontent.com/img/b/R29vZ2xl/AVvXsEiZxKLHX32VYBBOvxvKUDka6uX0wKYYg46EurNzQBUHjaxd2dSJ82paUaJ1OTzpMMt4R7KUuvsbcOLuAg_9NJ1WaRJev8vmRhWea4xfg0AhjSaX2sp3ZFZGD490AArNICVDqzYvrjTqWbKFHxFLE2AYBVaIrGvkwPTqJCroDTvEb43sNuM5wHHCecd6/s350/subscribe-5408999_640.png\" width=\"310\"/></a>ㅤㅤ\n",
        " <a href=\"https://discord.gg/j8qmYPAGQh\"><img src=\"https://cdn.shopify.com/s/files/1/0562/9329/4253/files/Discord_button_480x480.png\" width=\"350\"/></a></div>\n",
        "\n",
        "&nbsp;\n",
        "### **TUTORIAL ADA SINI👇**\n",
        "<div align=\"center\">\n",
        " <a href=\"https://youtu.be/nUOO4hR6ae0\"><img src=\"https://blogger.googleusercontent.com/img/b/R29vZ2xl/AVvXsEh3HdWgZaTisjbhc3n0jsENDIvE5xbcRhK3P2KpqogNzgsspiAnx1m8FUYJU3KVb-LByJcV5zFUIRknVfwXqMHsRr1qioxUVasOA1irvOOF5qOE49qHJFuoJof6EKa0AUxhzWdsBiIQD_2UOojL8hcAmoiNQcxK7G1j5lqefxxczygnIu6Qcqf0KoDJ/s854/%E3%82%B9%E3%82%AF%E3%83%AA%E3%83%BC%E3%83%B3%E3%82%B7%E3%83%A7%E3%83%83%E3%83%88%202023-04-15%20000338.jpg\" width=\"512\"/></a></a>\n",
        " &nbsp;\n",
        "\n",
        " <img src=\"https://blogger.googleusercontent.com/img/b/R29vZ2xl/AVvXsEgbVQ6d2Nd94epicRjhfwiTVPNPbEPbqwxviLnV8mx0pPflUWmfP8eKtE4fWuK77KsJLp1aMbZD_02gpSdv31mFEO1xQu0dyRophjSpLEPIL-a_QYgrz1ZH-n6O8aL7qBr1ofS429VqOCMO41bhx1muf__okLifEm79akATPVmiScC5p09uejupOnBF/s490/%E3%82%B9%E3%82%AF%E3%83%AA%E3%83%BC%E3%83%B3%E3%82%B7%E3%83%A7%E3%83%83%E3%83%88%202023-04-14%20084916.png\" width=\"420\"/></div>"
      ]
    },
    {
      "cell_type": "markdown",
      "metadata": {
        "id": "DrAnm1um5vjh"
      },
      "source": [
        "\n",
        "\n",
        "\n",
        "---\n",
        "\n"
      ]
    },
    {
      "cell_type": "code",
      "execution_count": null,
      "metadata": {
        "id": "vmoRnFQEqOeY"
      },
      "outputs": [],
      "source": [
        "#@markdown #Step 1: Mounting Google Drive\n",
        "\n",
        "#@markdown The first step in setting up Kohya SS on Colab is to mount your Google Drive to the Colab notebook. This allows you to save and access files from your Google Drive in the Colab notebook.\n",
        "\n",
        "#@markdown To mount your Google Drive, run the following code block, which mounts your Google Drive to the /content/gdrive directory in the Colab notebook.\n",
        "\n",
        "\n",
        "\n",
        "from google.colab import drive\n",
        "drive.mount('/content/gdrive')"
      ]
    },
    {
      "cell_type": "code",
      "source": [
        "#@markdown #Download File or Model from DirectLink (Optional)\n",
        "DirectLink_URL = \"https://huggingface.co/NoCrypt/SomethingV2_2/resolve/main/SomethingV2_2.safetensors\"  # @param {'type': 'string'}\n",
        "!wget $DirectLink_URL"
      ],
      "metadata": {
        "id": "zvVXn7vkliaf"
      },
      "execution_count": null,
      "outputs": []
    },
    {
      "cell_type": "markdown",
      "metadata": {
        "id": "mvQwnr4354BM"
      },
      "source": [
        "\n",
        "\n",
        "---\n",
        "\n"
      ]
    },
    {
      "cell_type": "code",
      "execution_count": null,
      "metadata": {
        "id": "jnhm7ycMrLWb"
      },
      "outputs": [],
      "source": [
        "#@markdown #Kohya SS WebUI Installation\n",
        "\n",
        "#@markdown Now that your Google Drive is linked, we need to install the Kohya SS WebUI.\n",
        "\n",
        "#@markdown The code clones the [Kohya SS Google Colab](\"https://github.com/YKefasu/kohya_ss_gui_google_colab\") repository and creates the necessary directories for Kohya SS to run. It then resets the git repository and pulls the latest changes. Finally, it displays a success message.\n",
        "\n",
        "#@markdown Note: If Google Drive is not connected, the code will use Colab storage instead.\n",
        "\n",
        "#@title\n",
        "# Import necessary libraries\n",
        "from IPython.display import clear_output\n",
        "from IPython.utils import capture\n",
        "from subprocess import getoutput\n",
        "import ipywidgets as widgets\n",
        "import sys\n",
        "import fileinput\n",
        "import os\n",
        "import time\n",
        "\n",
        "# WebUI Installation\n",
        "\n",
        "# Check if Google Drive is connected\n",
        "if not os.path.exists(\"/content/gdrive/MyDrive/\"):\n",
        "    print(\"Gdrive not connected, using colab storage ...\")\n",
        "    time.sleep(4)\n",
        "    !mkdir -p /content/gdrive/MyDrive/\n",
        "\n",
        "# Clone the repository and create necessary directories\n",
        "with capture.capture_output() as cap:\n",
        "    def inf(msg, style, wdth):\n",
        "        inf = widgets.Button(description=msg, disabled=True, button_style=style, layout=widgets.Layout(min_width=wdth))\n",
        "        display(inf)\n",
        "\n",
        "    %mkdir -p /content/gdrive/MyDrive/sd\n",
        "    %cd /content/gdrive/MyDrive/sd\n",
        "    !git clone https://github.com/YKefasu/kohya_ss_gui_google_colab kohya_ss_colab\n",
        "    !mkdir -p /content/gdrive/MyDrive/sd/kohya_ss_colab/cache/huggingface\n",
        "    !ln -s /content/gdrive/MyDrive/sd/kohya_ss_colab/cache/huggingface /root/.cache/\n",
        "\n",
        "# Reset the git repository and pull the latest changes\n",
        "with capture.capture_output() as cap:\n",
        "    %cd /content/gdrive/MyDrive/sd/kohya_ss_colab/\n",
        "    !git reset --hard\n",
        "    time.sleep(1)\n",
        "\n",
        "print(\"Updating the repository...\")\n",
        "!git pull\n",
        "\n",
        "# Clear the output and display the success message\n",
        "clear_output()\n",
        "inf(\"✓ Done\", \"success\", \"50px\")"
      ]
    },
    {
      "cell_type": "markdown",
      "metadata": {
        "id": "8SrMhmFz7Lt4"
      },
      "source": [
        "---"
      ]
    },
    {
      "cell_type": "code",
      "execution_count": null,
      "metadata": {
        "id": "yjvkHRlDtDmV"
      },
      "outputs": [],
      "source": [
        "#@markdown #Requirements Installation\n",
        "\n",
        "#@markdown Now that we have downloaded the Kohya SS WebUI, we need to install the necessary requirements.\n",
        "\n",
        "# Print the status message\n",
        "print(\"Installing requirements...\")\n",
        "\n",
        "# Change the working directory to the project folder\n",
        "%cd /content/gdrive/MyDrive/sd/kohya_ss_colab/\n",
        "\n",
        "# Install the requirements\n",
        "with capture.capture_output() as cap:\n",
        "    # Uncomment the following line if you need to install specific versions of torch and torchvision\n",
        "    !pip install torch==2.0.0+cu118 torchvision==0.15.1+cu118 --extra-index-url https://download.pytorch.org/whl/cu118\n",
        "    !pip install xformers==0.0.18\n",
        "    \n",
        "    # Install the requirements from the requirements.txt file\n",
        "    !pip install -r requirements.txt\n",
        "\n",
        "# Clear the output to keep the notebook clean\n",
        "clear_output()\n",
        "\n",
        "# Print the success message\n",
        "inf(\"✓ Done\", \"success\", \"50px\")"
      ]
    },
    {
      "cell_type": "markdown",
      "metadata": {
        "id": "FLDvlHm1tYud"
      },
      "source": [
        "\n",
        "---\n",
        "\n"
      ]
    },
    {
      "cell_type": "code",
      "execution_count": null,
      "metadata": {
        "id": "IzS3hvuTtTqW"
      },
      "outputs": [],
      "source": [
        "#@markdown # Start Kohya ss WebUI\n",
        "\n",
        "User = \"\" #@param {type:\"string\"}\n",
        "Password = \"\" #@param {type:\"string\"}\n",
        "\n",
        "#@markdown - Adding a username and password is not necessary but it will improve the security of your Kohya instance.\n",
        "#@markdown ______\n",
        "#@markdown # Please click the link that concludes with ```gradio.live``` to access your instance\n",
        "# Encourage users to contribute improvements\n",
        "print(\"Please feel free to make any changes or improvements you think would enhance this setup. Your input and contributions are greatly appreciated!\")\n",
        "# Check if the user has provided a username and password\n",
        "if User and Password:\n",
        "    # Run the Kohya GUI with the provided credentials\n",
        "    !python /content/gdrive/MyDrive/sd/kohya_ss_colab/kohya_gui.py --username $User --password $Password --share \n",
        "else:\n",
        "    # Run the Kohya GUI without credentials\n",
        "    !python /content/gdrive/MyDrive/sd/kohya_ss_colab/kohya_gui.py --share \n"
      ]
    }
  ],
  "metadata": {
    "colab": {
      "provenance": [],
      "include_colab_link": true
    },
    "kernelspec": {
      "display_name": "Python 3",
      "name": "python3"
    },
    "language_info": {
      "name": "python"
    }
  },
  "nbformat": 4,
  "nbformat_minor": 0
}